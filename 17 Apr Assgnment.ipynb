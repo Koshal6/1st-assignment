{
 "cells": [
  {
   "cell_type": "code",
   "execution_count": 17,
   "id": "fd2e39fa-1246-4817-a673-37a515bab20c",
   "metadata": {},
   "outputs": [],
   "source": [
    "#Question 1 Explain the key features of Python that make it a popular choice for programming."
   ]
  },
  {
   "cell_type": "code",
   "execution_count": 23,
   "id": "48a1e23d-6610-4e80-9f5d-7f570ce462cd",
   "metadata": {},
   "outputs": [],
   "source": [
    "#Answer 1 - Python is one of the easiest coding languages. It also has the most interactive and active community.\n",
    "#It has a rich library & it is being used in various domains like web development, data science & analytics, automation & more."
   ]
  },
  {
   "cell_type": "code",
   "execution_count": 25,
   "id": "d39922a5-395b-46e3-b85b-25066dc99eee",
   "metadata": {},
   "outputs": [],
   "source": [
    "#Question 2 Describe the role of predefined keywords in Python and provide examples of how they are used in a program."
   ]
  },
  {
   "cell_type": "code",
   "execution_count": 27,
   "id": "1b24e98d-efe5-4d98-bfd8-d59790ed8f5f",
   "metadata": {},
   "outputs": [],
   "source": [
    "# Answer 2 - Predefined keywords in python are the words which are reserved that have special meaning and are used to define the language's structure. \n",
    "#They cannot be used as variale names, for eg. if, else, while, for, def etc."
   ]
  },
  {
   "cell_type": "code",
   "execution_count": 39,
   "id": "c788ac84-3203-415d-bfb4-40d6660e833b",
   "metadata": {},
   "outputs": [],
   "source": [
    "age = 27"
   ]
  },
  {
   "cell_type": "code",
   "execution_count": 41,
   "id": "5e263fda-e311-4337-93ed-9268bbba79d5",
   "metadata": {},
   "outputs": [
    {
     "name": "stdout",
     "output_type": "stream",
     "text": [
      "18+\n",
      "18\n"
     ]
    }
   ],
   "source": [
    "if age > 18:\n",
    "    print(\"18+\")\n",
    "if age < 18:\n",
    "    print(\"Below 18\")\n",
    "else:\n",
    "    print(\"18\")"
   ]
  },
  {
   "cell_type": "code",
   "execution_count": 43,
   "id": "88a8db15-69ba-44c3-990f-74cc255b2022",
   "metadata": {},
   "outputs": [],
   "source": [
    "# question 3 Compare and contrast mutable and immutable objects in Python with examples0"
   ]
  },
  {
   "cell_type": "code",
   "execution_count": 45,
   "id": "ae890e9d-57fc-403c-b610-c4aa8f684956",
   "metadata": {},
   "outputs": [],
   "source": [
    "# answer 3 - Mutable objects can be changed after creation but immutable are fixed and cannot be changed"
   ]
  },
  {
   "cell_type": "code",
   "execution_count": 53,
   "id": "f302ad9d-4bfa-49ab-8c34-e715bf06bebc",
   "metadata": {},
   "outputs": [
    {
     "name": "stdout",
     "output_type": "stream",
     "text": [
      "[1, 2, 3, 26]\n"
     ]
    }
   ],
   "source": [
    "#for example (mutable)\n",
    "mylist = [1,2,3] #original\n",
    "mylist.append(26) #LIST IS MODIFIED\n",
    "print(mylist) #output\n"
   ]
  },
  {
   "cell_type": "code",
   "execution_count": 59,
   "id": "f5b004db-771d-4842-8207-24f38181c59b",
   "metadata": {},
   "outputs": [
    {
     "ename": "TypeError",
     "evalue": "'tuple' object does not support item assignment",
     "output_type": "error",
     "traceback": [
      "\u001b[1;31m---------------------------------------------------------------------------\u001b[0m",
      "\u001b[1;31mTypeError\u001b[0m                                 Traceback (most recent call last)",
      "Cell \u001b[1;32mIn[59], line 3\u001b[0m\n\u001b[0;32m      1\u001b[0m \u001b[38;5;66;03m#for example (immutable)\u001b[39;00m\n\u001b[0;32m      2\u001b[0m my_tuple \u001b[38;5;241m=\u001b[39m (\u001b[38;5;241m10\u001b[39m,\u001b[38;5;241m20\u001b[39m,\u001b[38;5;241m30\u001b[39m)\n\u001b[1;32m----> 3\u001b[0m my_tuple[\u001b[38;5;241m1\u001b[39m] \u001b[38;5;241m=\u001b[39m \u001b[38;5;241m25\u001b[39m\n",
      "\u001b[1;31mTypeError\u001b[0m: 'tuple' object does not support item assignment"
     ]
    }
   ],
   "source": [
    "#for example (immutable)\n",
    "my_tuple = (10,20,30)\n",
    "my_tuple[1] = 25 #not editable"
   ]
  },
  {
   "cell_type": "code",
   "execution_count": 61,
   "id": "d15acaa1-cd37-4e74-a21f-a4d2314d2195",
   "metadata": {},
   "outputs": [],
   "source": [
    "# question 4 Discuss the different types of operators in Python and provide examples of how they are used"
   ]
  },
  {
   "cell_type": "code",
   "execution_count": 67,
   "id": "3fa390fa-9ae6-4b8c-b771-b286909da774",
   "metadata": {},
   "outputs": [
    {
     "name": "stdout",
     "output_type": "stream",
     "text": [
      "15\n",
      "5\n",
      "50\n",
      "2.0\n"
     ]
    }
   ],
   "source": [
    "#Answer 4 - \n",
    "#Arithmetic Operators\n",
    "\n",
    "a = 10\n",
    "b = 5\n",
    "\n",
    "# Addition\n",
    "print(a + b)  # Output: 15\n",
    "\n",
    "# Subtraction\n",
    "print(a - b)  # Output: 5\n",
    "\n",
    "# Multiplication\n",
    "print(a * b)  # Output: 50\n",
    "\n",
    "# Division\n",
    "print(a / b)  # Output: 2.0"
   ]
  },
  {
   "cell_type": "code",
   "execution_count": 69,
   "id": "ef676c77-7528-4bb4-9b74-87b7447d659e",
   "metadata": {},
   "outputs": [
    {
     "name": "stdout",
     "output_type": "stream",
     "text": [
      "False\n",
      "True\n",
      "True\n",
      "False\n",
      "True\n",
      "False\n"
     ]
    }
   ],
   "source": [
    "#Comparison Operators\n",
    "a = 10\n",
    "b = 5\n",
    "\n",
    "# Equal to\n",
    "print(a == b)  # Output: False\n",
    "\n",
    "# Not equal to\n",
    "print(a != b)  # Output: True\n",
    "\n",
    "# Greater than\n",
    "print(a > b)   # Output: True\n",
    "\n",
    "# Less than\n",
    "print(a < b)   # Output: False\n",
    "\n",
    "# Greater than or equal to\n",
    "print(a >= b)  # Output: True\n",
    "\n",
    "# Less than or equal to\n",
    "print(a <= b)  # Output: False"
   ]
  },
  {
   "cell_type": "code",
   "execution_count": 71,
   "id": "7b7bdcd3-1866-4629-9582-f6bae960c89b",
   "metadata": {},
   "outputs": [
    {
     "name": "stdout",
     "output_type": "stream",
     "text": [
      "15\n",
      "12\n",
      "24\n",
      "6.0\n"
     ]
    }
   ],
   "source": [
    "#Assignment Operators\n",
    "a = 10  # Assign value 10 to a\n",
    "\n",
    "# Add and assign\n",
    "a += 5  # a = a + 5, now a = 15\n",
    "print(a)  # Output: 15\n",
    "\n",
    "# Subtract and assign\n",
    "a -= 3  # a = a - 3, now a = 12\n",
    "print(a)  # Output: 12\n",
    "\n",
    "# Multiply and assign\n",
    "a *= 2  # a = a * 2, now a = 24\n",
    "print(a)  # Output: 24\n",
    "\n",
    "# Divide and assign\n",
    "a /= 4  # a = a / 4, now a = 6.0\n",
    "print(a)  # Output: 6.0"
   ]
  },
  {
   "cell_type": "code",
   "execution_count": 73,
   "id": "ba54cacc-8f0d-400d-b34f-5426ad3d6b63",
   "metadata": {},
   "outputs": [],
   "source": [
    "# question 5 Explain the concept of type casting in Python with examples"
   ]
  },
  {
   "cell_type": "code",
   "execution_count": 75,
   "id": "f489c267-fd27-4b09-b49a-85c0c5ee0874",
   "metadata": {},
   "outputs": [],
   "source": [
    "# answer 5 - Type casting in Python is the process of converting a variable from one data type to another.\n",
    "#Python provides functions that allow you to change the type of a variable explicitly. \n",
    "#This is useful when you want to perform operations that require a specific data type."
   ]
  },
  {
   "cell_type": "code",
   "execution_count": 77,
   "id": "24f23438-06cf-4ffd-8efe-a0060b7748fa",
   "metadata": {},
   "outputs": [
    {
     "name": "stdout",
     "output_type": "stream",
     "text": [
      "13.5\n"
     ]
    }
   ],
   "source": [
    "a = 10      # int\n",
    "b = 3.5     # float\n",
    "\n",
    "# Python automatically converts 'a' to a float before adding\n",
    "result = a + b\n",
    "print(result)  # Output: 13.5 (float)"
   ]
  },
  {
   "cell_type": "code",
   "execution_count": 79,
   "id": "6658ab11-6663-4f15-b81d-ac5762ee52ed",
   "metadata": {},
   "outputs": [],
   "source": [
    "#question 6 How do conditional statements work in Python? Illustrate with examples"
   ]
  },
  {
   "cell_type": "code",
   "execution_count": 81,
   "id": "bee6eb00-953b-4e63-93d2-49fd5ee28bdd",
   "metadata": {},
   "outputs": [
    {
     "name": "stdout",
     "output_type": "stream",
     "text": [
      "You are an adult!\n"
     ]
    }
   ],
   "source": [
    "#answer 6 - Conditional statements in Python allow you to execute certain blocks of code depending on whether a condition is true or false. \n",
    "#These statements are used to make decisions in your code.\n",
    "age = 18\n",
    "\n",
    "if age >= 18:\n",
    "    print(\"You are an adult!\")"
   ]
  },
  {
   "cell_type": "code",
   "execution_count": 83,
   "id": "8068eff7-3206-4d6d-add2-78047d97a37d",
   "metadata": {},
   "outputs": [],
   "source": [
    "#question 7 Describe the different types of loops in Python and their use cases with examples"
   ]
  },
  {
   "cell_type": "code",
   "execution_count": 85,
   "id": "d4e0f11f-0978-46d3-90e3-cea369c6c3f8",
   "metadata": {},
   "outputs": [],
   "source": [
    "#answer 7 - \n",
    "#in Python, loops allow you to execute a block of code repeatedly. There are two main types of loops in Python\n",
    "#for loop & while loop"
   ]
  },
  {
   "cell_type": "code",
   "execution_count": 87,
   "id": "aebd73d6-f52a-4f6f-8ad6-ce6b3ce66da7",
   "metadata": {},
   "outputs": [
    {
     "name": "stdout",
     "output_type": "stream",
     "text": [
      "1\n",
      "2\n",
      "3\n",
      "4\n",
      "5\n"
     ]
    }
   ],
   "source": [
    "# Looping through a list of numbers\n",
    "numbers = [1, 2, 3, 4, 5]\n",
    "\n",
    "for num in numbers:\n",
    "    print(num)"
   ]
  },
  {
   "cell_type": "code",
   "execution_count": null,
   "id": "ed00545a-d0c6-4ab6-ad77-95232fd1feb3",
   "metadata": {},
   "outputs": [],
   "source": []
  }
 ],
 "metadata": {
  "kernelspec": {
   "display_name": "Python [conda env:base] *",
   "language": "python",
   "name": "conda-base-py"
  },
  "language_info": {
   "codemirror_mode": {
    "name": "ipython",
    "version": 3
   },
   "file_extension": ".py",
   "mimetype": "text/x-python",
   "name": "python",
   "nbconvert_exporter": "python",
   "pygments_lexer": "ipython3",
   "version": "3.12.7"
  }
 },
 "nbformat": 4,
 "nbformat_minor": 5
}
